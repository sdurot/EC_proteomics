{
 "cells": [
  {
   "cell_type": "markdown",
   "id": "d1970c61",
   "metadata": {},
   "source": [
    "# Endothelial Cell Proteomics Analysis\n",
    "\n",
    "This notebook demonstrates the comprehensive data science pipeline for analyzing endothelial cell proteomics data.\n",
    "\n",
    "## Overview\n",
    "\n",
    "This analysis pipeline includes:\n",
    "- Data loading and preprocessing\n",
    "- Quality control assessment\n",
    "- Data normalization\n",
    "- Principal Component Analysis (PCA)\n",
    "- Partial Least Squares Discriminant Analysis (PLS-DA)\n",
    "- Differential expression analysis\n",
    "- Interactive visualizations\n",
    "- Comprehensive reporting\n",
    "\n",
    "## Publication\n",
    "\n",
    "This code supports the analysis presented in:\n",
    "*\"Multi-omics analysis of endothelial cells reveals the metabolic diversity that underlies endothelial cell functions\"*\n",
    "\n",
    "bioRxiv: https://doi.org/10.1101/2025.03.03.641143"
   ]
  },
  {
   "cell_type": "code",
   "execution_count": null,
   "id": "0442011a",
   "metadata": {},
   "outputs": [],
   "source": [
    "# Import the proteomics analysis class\n",
    "from proteomics_analysis import ProteomicsAnalyzer\n",
    "import pandas as pd\n",
    "import numpy as np\n",
    "import matplotlib.pyplot as plt\n",
    "import seaborn as sns\n",
    "\n",
    "# Set up plotting\n",
    "plt.style.use('seaborn-v0_8')\n",
    "%matplotlib inline"
   ]
  },
  {
   "cell_type": "markdown",
   "id": "40de6b39",
   "metadata": {},
   "source": [
    "## 1. Initialize the Analyzer and Load Data"
   ]
  },
  {
   "cell_type": "code",
   "execution_count": null,
   "id": "87c0e474",
   "metadata": {},
   "outputs": [],
   "source": [
    "# Initialize the proteomics analyzer\n",
    "analyzer = ProteomicsAnalyzer(data_path=\".\", output_dir=\"results\")\n",
    "\n",
    "# Load the proteomics data\n",
    "# Make sure you have the 'Suppl_table_1.xlsx' file in your working directory\n",
    "analyzer.load_data(\"Suppl_table_1.xlsx\")"
   ]
  },
  {
   "cell_type": "code",
   "execution_count": null,
   "id": "05aebfeb",
   "metadata": {},
   "outputs": [],
   "source": [
    "# Preview the raw data structure\n",
    "print(f\"Raw data shape: {analyzer.raw_data.shape}\")\n",
    "print(f\"Columns: {list(analyzer.raw_data.columns[:10])}...\")  # Show first 10 columns\n",
    "analyzer.raw_data.head()"
   ]
  },
  {
   "cell_type": "markdown",
   "id": "ea9162ef",
   "metadata": {},
   "source": [
    "## 2. Data Preprocessing and Quality Control"
   ]
  },
  {
   "cell_type": "code",
   "execution_count": null,
   "id": "7017dd43",
   "metadata": {},
   "outputs": [],
   "source": [
    "# Preprocess the data (remove missing values, create metadata)\n",
    "analyzer.preprocess_data()\n",
    "\n",
    "# Display metadata information\n",
    "print(\"Metadata overview:\")\n",
    "print(analyzer.metadata.head())\n",
    "print(f\"\\nCell lines: {analyzer.metadata['cell_line'].unique()}\")\n",
    "print(f\"Time points: {analyzer.metadata['time_point'].unique()}\")\n",
    "print(f\"Cell types: {analyzer.metadata['cell_type'].unique()}\")"
   ]
  },
  {
   "cell_type": "code",
   "execution_count": null,
   "id": "b0fa50b7",
   "metadata": {},
   "outputs": [],
   "source": [
    "# Normalize the data using z-score normalization\n",
    "analyzer.normalize_data(method='zscore')\n",
    "\n",
    "print(f\"Normalized data shape: {analyzer.normalized_data.shape}\")\n",
    "print(f\"Data range after normalization: {analyzer.normalized_data.values.min():.2f} to {analyzer.normalized_data.values.max():.2f}\")"
   ]
  },
  {
   "cell_type": "code",
   "execution_count": null,
   "id": "0ea9a50d",
   "metadata": {},
   "outputs": [],
   "source": [
    "# Perform quality control analysis\n",
    "qc_results = analyzer.quality_control(save_plots=True)\n",
    "\n",
    "# Display QC summary\n",
    "print(\"Data completeness statistics:\")\n",
    "print(qc_results['completeness'])"
   ]
  },
  {
   "cell_type": "markdown",
   "id": "004193a5",
   "metadata": {},
   "source": [
    "## 3. Principal Component Analysis (PCA)"
   ]
  },
  {
   "cell_type": "code",
   "execution_count": null,
   "id": "d5929e22",
   "metadata": {},
   "outputs": [],
   "source": [
    "# Perform PCA analysis\n",
    "pca_results = analyzer.perform_pca(n_components=10, save_plots=True)\n",
    "\n",
    "# Display explained variance\n",
    "print(\"Explained variance ratio:\")\n",
    "for i, var in enumerate(pca_results['explained_variance_ratio'][:5]):\n",
    "    print(f\"PC{i+1}: {var:.3f} ({var*100:.1f}%)\")\n",
    "\n",
    "print(f\"\\nCumulative variance explained by first 2 PCs: {pca_results['cumulative_variance'][1]:.3f} ({pca_results['cumulative_variance'][1]*100:.1f}%)\")"
   ]
  },
  {
   "cell_type": "markdown",
   "id": "4518fdf3",
   "metadata": {},
   "source": [
    "## 4. PLS-DA Analysis for Cell Type Classification"
   ]
  },
  {
   "cell_type": "code",
   "execution_count": null,
   "id": "fb06c932",
   "metadata": {},
   "outputs": [],
   "source": [
    "# Perform PLS-DA to identify proteins that discriminate between BECs and LECs\n",
    "plsda_results = analyzer.perform_plsda(\n",
    "    target_variable='cell_type', \n",
    "    n_components=2, \n",
    "    n_permutations=1000, \n",
    "    save_plots=True\n",
    ")\n",
    "\n",
    "# Display significant proteins\n",
    "print(f\"Proteins with high weights (LEC-associated): {len(plsda_results['significant_proteins']['high_weights'])}\")\n",
    "print(f\"Proteins with low weights (BEC-associated): {len(plsda_results['significant_proteins']['low_weights'])}\")\n",
    "\n",
    "# Show top proteins\n",
    "print(\"\\nTop 10 LEC-associated proteins:\")\n",
    "print(plsda_results['significant_proteins']['high_weights'].sort_values(ascending=False).head(10))\n",
    "\n",
    "print(\"\\nTop 10 BEC-associated proteins:\")\n",
    "print(plsda_results['significant_proteins']['low_weights'].sort_values().head(10))"
   ]
  },
  {
   "cell_type": "markdown",
   "id": "01b60827",
   "metadata": {},
   "source": [
    "## 5. Differential Expression Analysis"
   ]
  },
  {
   "cell_type": "code",
   "execution_count": null,
   "id": "37d2e015",
   "metadata": {},
   "outputs": [],
   "source": [
    "# Perform differential analysis comparing D5 vs D2 for each cell line\n",
    "cell_lines = analyzer.metadata['cell_line'].unique()\n",
    "diff_results_summary = {}\n",
    "\n",
    "for cell_line in cell_lines:\n",
    "    ref_condition = f\"{cell_line}_D2\"\n",
    "    comp_condition = f\"{cell_line}_D5\"\n",
    "    \n",
    "    # Check if both conditions exist\n",
    "    if (ref_condition in analyzer.metadata['condition'].values and \n",
    "        comp_condition in analyzer.metadata['condition'].values):\n",
    "        \n",
    "        print(f\"\\nAnalyzing {comp_condition} vs {ref_condition}...\")\n",
    "        \n",
    "        diff_results = analyzer.differential_analysis(\n",
    "            reference_condition=ref_condition,\n",
    "            comparison_conditions=[comp_condition],\n",
    "            statistical_test='ttest',\n",
    "            multiple_testing_correction='qvalue'\n",
    "        )\n",
    "        \n",
    "        # Summarize results\n",
    "        comparison_key = f\"{comp_condition}_vs_{ref_condition}\"\n",
    "        if comparison_key in diff_results:\n",
    "            results_df = diff_results[comparison_key]\n",
    "            significant = results_df[results_df['significant']]\n",
    "            upregulated = significant[significant['log2_fc'] > 0]\n",
    "            downregulated = significant[significant['log2_fc'] < 0]\n",
    "            \n",
    "            diff_results_summary[cell_line] = {\n",
    "                'total_significant': len(significant),\n",
    "                'upregulated': len(upregulated),\n",
    "                'downregulated': len(downregulated)\n",
    "            }\n",
    "            \n",
    "            print(f\"  - Significant proteins: {len(significant)}\")\n",
    "            print(f\"  - Upregulated: {len(upregulated)}\")\n",
    "            print(f\"  - Downregulated: {len(downregulated)}\")\n",
    "\n",
    "# Create summary plot\n",
    "if diff_results_summary:\n",
    "    summary_df = pd.DataFrame(diff_results_summary).T\n",
    "    \n",
    "    fig, ax = plt.subplots(1, 1, figsize=(10, 6))\n",
    "    summary_df[['upregulated', 'downregulated']].plot(kind='bar', ax=ax, \n",
    "                                                     color=['red', 'blue'], alpha=0.7)\n",
    "    ax.set_title('Differential Expression Summary (D5 vs D2)')\n",
    "    ax.set_ylabel('Number of Proteins')\n",
    "    ax.set_xlabel('Cell Line')\n",
    "    ax.legend(['Upregulated', 'Downregulated'])\n",
    "    plt.xticks(rotation=45)\n",
    "    plt.tight_layout()\n",
    "    plt.show()"
   ]
  },
  {
   "cell_type": "markdown",
   "id": "59e79075",
   "metadata": {},
   "source": [
    "## 6. Interactive Protein Visualization"
   ]
  },
  {
   "cell_type": "code",
   "execution_count": null,
   "id": "bbb82772",
   "metadata": {},
   "outputs": [],
   "source": [
    "# Create an interactive function to plot specific proteins\n",
    "def plot_protein_expression(protein_name, cell_lines=None, time_points=None):\n",
    "    \"\"\"\n",
    "    Plot expression levels of a specific protein across conditions.\n",
    "    \n",
    "    Parameters:\n",
    "    -----------\n",
    "    protein_name : str\n",
    "        Name of the protein to plot\n",
    "    cell_lines : list, optional\n",
    "        List of cell lines to include\n",
    "    time_points : list, optional\n",
    "        List of time points to include\n",
    "    \"\"\"\n",
    "    # Find protein in the data\n",
    "    protein_matches = analyzer.clean_data.index[analyzer.clean_data.index.str.contains(protein_name, case=False)]\n",
    "    \n",
    "    if len(protein_matches) == 0:\n",
    "        print(f\"Protein '{protein_name}' not found in dataset\")\n",
    "        return\n",
    "    \n",
    "    if len(protein_matches) > 1:\n",
    "        print(f\"Multiple matches found: {list(protein_matches)}\")\n",
    "        print(f\"Using first match: {protein_matches[0]}\")\n",
    "    \n",
    "    protein_gene = protein_matches[0]\n",
    "    \n",
    "    # Get protein data\n",
    "    protein_data = analyzer.clean_data.loc[protein_gene, analyzer.clean_data.columns[2:-2]]\n",
    "    \n",
    "    # Create plotting dataframe\n",
    "    plot_df = pd.DataFrame({\n",
    "        'intensity': protein_data.values,\n",
    "        'sample_id': protein_data.index\n",
    "    })\n",
    "    \n",
    "    # Merge with metadata\n",
    "    plot_df = plot_df.merge(analyzer.metadata.set_index('sample_id'), left_on='sample_id', right_index=True)\n",
    "    \n",
    "    # Filter data if specified\n",
    "    if cell_lines:\n",
    "        plot_df = plot_df[plot_df['cell_line'].isin(cell_lines)]\n",
    "    if time_points:\n",
    "        plot_df = plot_df[plot_df['time_point'].isin(time_points)]\n",
    "    \n",
    "    # Create plot\n",
    "    fig, ax = plt.subplots(1, 1, figsize=(12, 6))\n",
    "    \n",
    "    sns.boxplot(data=plot_df, x='condition', y='intensity', ax=ax)\n",
    "    sns.stripplot(data=plot_df, x='condition', y='intensity', ax=ax, \n",
    "                 color='black', alpha=0.7, size=8)\n",
    "    \n",
    "    ax.set_title(f'Expression of {protein_gene}', fontsize=14, fontweight='bold')\n",
    "    ax.set_xlabel('Condition', fontweight='bold')\n",
    "    ax.set_ylabel('Log2 Intensity', fontweight='bold')\n",
    "    plt.xticks(rotation=45)\n",
    "    plt.tight_layout()\n",
    "    plt.show()\n",
    "    \n",
    "    # Print summary statistics\n",
    "    print(f\"\\nSummary statistics for {protein_gene}:\")\n",
    "    summary = plot_df.groupby('condition')['intensity'].agg(['mean', 'std', 'count'])\n",
    "    print(summary)\n",
    "\n",
    "# Example usage\n",
    "plot_protein_expression('PECAM1', time_points=['D2', 'D5'])"
   ]
  },
  {
   "cell_type": "markdown",
   "id": "dbbbcbb7",
   "metadata": {},
   "source": [
    "## 7. Generate Comprehensive Report"
   ]
  },
  {
   "cell_type": "code",
   "execution_count": null,
   "id": "e2367697",
   "metadata": {},
   "outputs": [],
   "source": [
    "# Generate a comprehensive HTML report\n",
    "report_html = analyzer.generate_report(save_html=True)\n",
    "\n",
    "print(\"Analysis completed successfully!\")\n",
    "print(f\"Results saved to: {analyzer.output_dir}\")\n",
    "print(\"\\nGenerated files:\")\n",
    "print(\"- analysis_report.html: Comprehensive analysis report\")\n",
    "print(\"- quality_control.png: Quality control plots\")\n",
    "print(\"- pca_analysis.html: Interactive PCA plots\")\n",
    "print(\"- plsda_cell_type.png: PLS-DA analysis plots\")\n",
    "print(\"- volcano_plot_*.html: Interactive volcano plots\")\n",
    "print(\"- differential_analysis_*.csv: Differential expression results\")"
   ]
  },
  {
   "cell_type": "markdown",
   "id": "00841f78",
   "metadata": {},
   "source": [
    "## 8. Advanced Analysis Examples"
   ]
  },
  {
   "cell_type": "code",
   "execution_count": null,
   "id": "99afbd47",
   "metadata": {},
   "outputs": [],
   "source": [
    "# Example: Pathway enrichment analysis preparation\n",
    "# Get significant proteins from PLS-DA for pathway analysis\n",
    "\n",
    "if 'plsda' in analyzer.results:\n",
    "    lec_proteins = list(analyzer.results['plsda']['significant_proteins']['high_weights'].index)\n",
    "    bec_proteins = list(analyzer.results['plsda']['significant_proteins']['low_weights'].index)\n",
    "    \n",
    "    print(f\"LEC-associated proteins for pathway analysis: {len(lec_proteins)}\")\n",
    "    print(\"First 10 LEC proteins:\", lec_proteins[:10])\n",
    "    \n",
    "    print(f\"\\nBEC-associated proteins for pathway analysis: {len(bec_proteins)}\")\n",
    "    print(\"First 10 BEC proteins:\", bec_proteins[:10])\n",
    "    \n",
    "    # Save protein lists for external pathway analysis\n",
    "    with open(analyzer.output_dir / 'lec_associated_proteins.txt', 'w') as f:\n",
    "        f.write('\\n'.join(lec_proteins))\n",
    "    \n",
    "    with open(analyzer.output_dir / 'bec_associated_proteins.txt', 'w') as f:\n",
    "        f.write('\\n'.join(bec_proteins))\n",
    "    \n",
    "    print(\"\\nProtein lists saved for pathway analysis.\")"
   ]
  },
  {
   "cell_type": "code",
   "execution_count": null,
   "id": "493245fe",
   "metadata": {},
   "outputs": [],
   "source": [
    "# Example: Custom analysis - Correlation between specific proteins\n",
    "proteins_of_interest = ['PECAM1', 'VWF', 'ICAM1', 'VCAM1']  # Example endothelial markers\n",
    "\n",
    "# Find these proteins in the dataset\n",
    "found_proteins = []\n",
    "for protein in proteins_of_interest:\n",
    "    matches = analyzer.clean_data.index[analyzer.clean_data.index.str.contains(protein, case=False)]\n",
    "    if len(matches) > 0:\n",
    "        found_proteins.append(matches[0])\n",
    "        print(f\"Found: {protein} -> {matches[0]}\")\n",
    "    else:\n",
    "        print(f\"Not found: {protein}\")\n",
    "\n",
    "if len(found_proteins) > 1:\n",
    "    # Calculate correlation matrix\n",
    "    protein_data = analyzer.normalized_data.loc[found_proteins].T\n",
    "    correlation_matrix = protein_data.corr(method='spearman')\n",
    "    \n",
    "    # Plot correlation heatmap\n",
    "    plt.figure(figsize=(8, 6))\n",
    "    sns.heatmap(correlation_matrix, annot=True, cmap='RdBu_r', center=0,\n",
    "                square=True, fmt='.2f', cbar_kws={'shrink': 0.8})\n",
    "    plt.title('Correlation Matrix: Endothelial Markers')\n",
    "    plt.tight_layout()\n",
    "    plt.show()\n",
    "    \n",
    "    print(\"\\nCorrelation matrix:\")\n",
    "    print(correlation_matrix)"
   ]
  },
  {
   "cell_type": "markdown",
   "id": "319a0b6a",
   "metadata": {},
   "source": [
    "## Summary\n",
    "\n",
    "This notebook demonstrates a comprehensive data science approach to proteomics analysis including:\n",
    "\n",
    "1. **Data Management**: Proper loading, cleaning, and preprocessing\n",
    "2. **Quality Control**: Systematic assessment of data quality\n",
    "3. **Statistical Analysis**: PCA, PLS-DA, and differential expression\n",
    "4. **Visualization**: Publication-quality static and interactive plots\n",
    "5. **Reporting**: Automated generation of comprehensive reports\n",
    "6. **Reproducibility**: Well-documented, modular code structure\n",
    "\n",
    "The analysis pipeline is designed to be:\n",
    "- **Scalable**: Can handle large proteomics datasets\n",
    "- **Flexible**: Easy to modify for different experimental designs\n",
    "- **Reproducible**: Consistent results with proper documentation\n",
    "- **Interactive**: Supports exploratory data analysis\n",
    "\n",
    "For more advanced analyses, consider:\n",
    "- Network analysis (protein-protein interactions)\n",
    "- Pathway enrichment analysis\n",
    "- Machine learning classification\n",
    "- Time-series analysis\n",
    "- Integration with other omics data"
   ]
  }
 ],
 "metadata": {
  "language_info": {
   "name": "python"
  }
 },
 "nbformat": 4,
 "nbformat_minor": 5
}
